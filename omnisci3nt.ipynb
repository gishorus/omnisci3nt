{
  "cells": [
    {
      "cell_type": "markdown",
      "metadata": {
        "id": "view-in-github",
        "colab_type": "text"
      },
      "source": [
        "<a href=\"https://colab.research.google.com/github/gishorus/omnisci3nt/blob/main/omnisci3nt.ipynb\" target=\"_parent\"><img src=\"https://colab.research.google.com/assets/colab-badge.svg\" alt=\"Open In Colab\"/></a>"
      ]
    },
    {
      "cell_type": "markdown",
      "metadata": {
        "id": "ZB1uBONF7K1i"
      },
      "source": [
        "# 🔍 Omnisci3nt - Web Recon CLI Tool\n",
        "\n",
        "**Install and use Omnisci3nt right here in Colab or Jupyter.**"
      ]
    },
    {
      "cell_type": "code",
      "execution_count": null,
      "metadata": {
        "id": "34FoY4Qv7K1m"
      },
      "outputs": [],
      "source": [
        "# 📦 Clone the repo and install dependencies\n",
        "!git clone https://github.com/spyboy-productions/omnisci3nt.git\n",
        "%cd omnisci3nt\n",
        "!pip3 install -r requirements.txt"
      ]
    },
    {
      "cell_type": "code",
      "execution_count": null,
      "metadata": {
        "id": "Y-Ke6B2B7K1o"
      },
      "outputs": [],
      "source": [
        "# 📘 Show command help\n",
        "!python3 -m omnisci3nt.omnisci3nt -h"
      ]
    },
    {
      "cell_type": "markdown",
      "metadata": {
        "id": "OA_VD44X7K1p"
      },
      "source": [
        "## ✅ Example Usage"
      ]
    },
    {
      "cell_type": "code",
      "execution_count": null,
      "metadata": {
        "id": "kNBbtjsB7K1p"
      },
      "outputs": [],
      "source": [
        "# 🔍 Run All recon on example.com\n",
        "!python3 -m omnisci3nt.omnisci3nt -all example.com"
      ]
    }
  ],
  "metadata": {
    "colab": {
      "provenance": [],
      "include_colab_link": true
    },
    "kernelspec": {
      "display_name": "Python 3",
      "language": "python",
      "name": "python3"
    },
    "language_info": {
      "name": "python"
    }
  },
  "nbformat": 4,
  "nbformat_minor": 0
}